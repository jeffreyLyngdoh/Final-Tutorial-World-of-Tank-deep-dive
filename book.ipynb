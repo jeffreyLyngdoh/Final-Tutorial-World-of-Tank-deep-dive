{
 "cells": [
  {
   "attachments": {},
   "cell_type": "markdown",
   "metadata": {},
   "source": [
    "World of Tanks: Free to Play, Pay to Enjoy"
   ]
  },
  {
   "attachments": {},
   "cell_type": "markdown",
   "metadata": {},
   "source": [
    "Jeffrey Lyngdoh"
   ]
  },
  {
   "attachments": {},
   "cell_type": "markdown",
   "metadata": {},
   "source": [
    "Introduction"
   ]
  },
  {
   "cell_type": "code",
   "execution_count": 78,
   "metadata": {},
   "outputs": [],
   "source": [
    "import requests\n",
    "import json\n",
    "from bs4 import BeautifulSoup\n",
    "import pandas as pd\n",
    "import matplotlib.pyplot as plt\n",
    "import csv\n",
    "from sklearn import linear_model\n",
    "import numpy as np\n",
    "import statsmodels.api as sm\n",
    "from scipy import stats\n",
    "\n"
   ]
  },
  {
   "attachments": {},
   "cell_type": "markdown",
   "metadata": {},
   "source": [
    "Data curation"
   ]
  },
  {
   "attachments": {},
   "cell_type": "markdown",
   "metadata": {},
   "source": [
    "We will gather our data by scraping a webpage from tomato.gg, the premier source for World of Tanks statistics which collects aggregate data from players and vehicles within the last 60 days. There are two web pages we will be looking at. The first is the tank stat page which contains data about battles, winrate, damage and other statistics relevant to the actual gameplay. The second is the tank economy page which contains data related to credit earning through vehicles including repair cost, average earning per game, ammo cost, etc.\n"
   ]
  },
  {
   "attachments": {},
   "cell_type": "markdown",
   "metadata": {},
   "source": [
    "Battle Stats: https://www.tomato.gg/tank-stats/NA\n"
   ]
  },
  {
   "attachments": {},
   "cell_type": "markdown",
   "metadata": {},
   "source": [
    "Economy Stats: https://www.tomato.gg/economics/all"
   ]
  },
  {
   "attachments": {},
   "cell_type": "markdown",
   "metadata": {},
   "source": [
    "IMPORTANT"
   ]
  },
  {
   "attachments": {},
   "cell_type": "markdown",
   "metadata": {},
   "source": [
    "tomato.gg is updated often and frequently, sometimes the structure of the webpage changes or variable names do, this can be unreliable as my project is based on collecting specific bits of information or information can be moved. As a result I have opted to escape the webpage one and save the data in csv files in the folder rawDataOutput. These files will be used for the actual data analysis in my project, they are up to date as of April 2023 which will suffice for the purpose of my project. Below I have provided the code I used to initially scrape these webpages, they will write their results to the output file if you are curious however they will not be used in my work. It is possible the code below doesn't work for the reasons listed before."
   ]
  },
  {
   "cell_type": "code",
   "execution_count": 79,
   "metadata": {},
   "outputs": [],
   "source": [
    "url = \"https://www.tomato.gg/tank-stats/NA\"\n",
    "\n",
    "response = requests.get(url)\n",
    "soup = BeautifulSoup(response.content, \"html.parser\")\n",
    "\n",
    "script = soup.find(\"script\", {\"id\": \"__NEXT_DATA__\"})\n",
    "\n",
    "if script:\n",
    "    contents = script.contents[0]\n",
    "    data = json.loads(contents)\n",
    "    initial_data = data[\"props\"][\"pageProps\"][\"data\"]\n",
    "    \n",
    "    fieldnames = set()\n",
    "    for obj in initial_data:\n",
    "        fieldnames.update(obj.keys())\n",
    "\n",
    "    filename = \"output.csv\"\n",
    "\n",
    "    with open(filename, mode=\"w\", newline=\"\", encoding=\"utf-8\") as file:  \n",
    "        writer = csv.DictWriter(file, fieldnames=list(fieldnames))\n",
    "        writer.writeheader()\n",
    "        writer.writerows(initial_data)   \n",
    "else:\n",
    "    print(\"Error data not found\")\n"
   ]
  },
  {
   "cell_type": "code",
   "execution_count": 80,
   "metadata": {},
   "outputs": [],
   "source": [
    "url = \"https://www.tomato.gg/economics/all\"\n",
    "response = requests.get(url)\n",
    "soup = BeautifulSoup(response.content, \"html.parser\")\n",
    "\n",
    "script = soup.find(\"script\", {\"id\": \"__NEXT_DATA__\"})\n",
    "if script:\n",
    "    contents = script.contents[0]\n",
    "    data = json.loads(contents)\n",
    "    initial_data = data[\"props\"][\"pageProps\"][\"data\"]['data']\n",
    "\n",
    "    fieldnames = set()\n",
    "    for obj in initial_data:\n",
    "        fieldnames.update(obj.keys())\n",
    "        \n",
    "    filename = \"output.csv\"\n",
    "\n",
    "    with open(filename, mode=\"w\", newline=\"\", encoding=\"utf-8\") as file:  # Specify UTF-8 encoding\n",
    "        writer = csv.DictWriter(file, fieldnames=list(fieldnames))\n",
    "        writer.writeheader()\n",
    "        writer.writerows(initial_data)  \n",
    "    \n",
    "else:\n",
    "    print(\"Error data not found\")"
   ]
  },
  {
   "attachments": {},
   "cell_type": "markdown",
   "metadata": {},
   "source": [
    "Parsing and Management"
   ]
  },
  {
   "attachments": {},
   "cell_type": "markdown",
   "metadata": {},
   "source": [
    "We can convert our files into dataframes. One for tank economies and another for general battle stats. We can combine them based on tank ids. The resulting data frame has a lot of attributes which we don’t need so we can simply create a new dataframe and insert all relevant columns. This data frame has information of more than 500 tanks.\n"
   ]
  },
  {
   "cell_type": "code",
   "execution_count": 81,
   "metadata": {},
   "outputs": [
    {
     "data": {
      "text/html": [
       "<div>\n",
       "<style scoped>\n",
       "    .dataframe tbody tr th:only-of-type {\n",
       "        vertical-align: middle;\n",
       "    }\n",
       "\n",
       "    .dataframe tbody tr th {\n",
       "        vertical-align: top;\n",
       "    }\n",
       "\n",
       "    .dataframe thead th {\n",
       "        text-align: right;\n",
       "    }\n",
       "</style>\n",
       "<table border=\"1\" class=\"dataframe\">\n",
       "  <thead>\n",
       "    <tr style=\"text-align: right;\">\n",
       "      <th></th>\n",
       "      <th>Id</th>\n",
       "      <th>Name</th>\n",
       "      <th>isPrem</th>\n",
       "      <th>tier</th>\n",
       "      <th>class</th>\n",
       "      <th>battles</th>\n",
       "      <th>winrate</th>\n",
       "      <th>survival</th>\n",
       "      <th>damage</th>\n",
       "      <th>shotCost</th>\n",
       "      <th>repairCost</th>\n",
       "      <th>avg_ammo_cost</th>\n",
       "      <th>avg_profit</th>\n",
       "    </tr>\n",
       "  </thead>\n",
       "  <tbody>\n",
       "    <tr>\n",
       "      <th>0</th>\n",
       "      <td>60225</td>\n",
       "      <td>Bourrasque</td>\n",
       "      <td>True</td>\n",
       "      <td>8</td>\n",
       "      <td>MT</td>\n",
       "      <td>110271</td>\n",
       "      <td>53.36</td>\n",
       "      <td>27.44</td>\n",
       "      <td>1391</td>\n",
       "      <td>2966</td>\n",
       "      <td>6483</td>\n",
       "      <td>25621</td>\n",
       "      <td>39962</td>\n",
       "    </tr>\n",
       "    <tr>\n",
       "      <th>1</th>\n",
       "      <td>50193</td>\n",
       "      <td>Skorpion G</td>\n",
       "      <td>True</td>\n",
       "      <td>8</td>\n",
       "      <td>TD</td>\n",
       "      <td>82120</td>\n",
       "      <td>48.96</td>\n",
       "      <td>30.85</td>\n",
       "      <td>1264</td>\n",
       "      <td>2196</td>\n",
       "      <td>5967</td>\n",
       "      <td>16537</td>\n",
       "      <td>42051</td>\n",
       "    </tr>\n",
       "    <tr>\n",
       "      <th>2</th>\n",
       "      <td>61505</td>\n",
       "      <td>ELC EVEN 90</td>\n",
       "      <td>True</td>\n",
       "      <td>8</td>\n",
       "      <td>LT</td>\n",
       "      <td>80964</td>\n",
       "      <td>50.58</td>\n",
       "      <td>23.45</td>\n",
       "      <td>593</td>\n",
       "      <td>1875</td>\n",
       "      <td>4725</td>\n",
       "      <td>10728</td>\n",
       "      <td>37193</td>\n",
       "    </tr>\n",
       "    <tr>\n",
       "      <th>3</th>\n",
       "      <td>45057</td>\n",
       "      <td>SU-130PM</td>\n",
       "      <td>True</td>\n",
       "      <td>8</td>\n",
       "      <td>TD</td>\n",
       "      <td>77995</td>\n",
       "      <td>49.72</td>\n",
       "      <td>34.90</td>\n",
       "      <td>1386</td>\n",
       "      <td>2088</td>\n",
       "      <td>5610</td>\n",
       "      <td>15900</td>\n",
       "      <td>44788</td>\n",
       "    </tr>\n",
       "    <tr>\n",
       "      <th>4</th>\n",
       "      <td>60481</td>\n",
       "      <td>Char Futur 4</td>\n",
       "      <td>True</td>\n",
       "      <td>9</td>\n",
       "      <td>MT</td>\n",
       "      <td>72969</td>\n",
       "      <td>50.34</td>\n",
       "      <td>28.56</td>\n",
       "      <td>1539</td>\n",
       "      <td>1841</td>\n",
       "      <td>15545</td>\n",
       "      <td>16574</td>\n",
       "      <td>7018</td>\n",
       "    </tr>\n",
       "    <tr>\n",
       "      <th>...</th>\n",
       "      <td>...</td>\n",
       "      <td>...</td>\n",
       "      <td>...</td>\n",
       "      <td>...</td>\n",
       "      <td>...</td>\n",
       "      <td>...</td>\n",
       "      <td>...</td>\n",
       "      <td>...</td>\n",
       "      <td>...</td>\n",
       "      <td>...</td>\n",
       "      <td>...</td>\n",
       "      <td>...</td>\n",
       "      <td>...</td>\n",
       "    </tr>\n",
       "    <tr>\n",
       "      <th>551</th>\n",
       "      <td>4417</td>\n",
       "      <td>G1 R</td>\n",
       "      <td>False</td>\n",
       "      <td>5</td>\n",
       "      <td>MT</td>\n",
       "      <td>202</td>\n",
       "      <td>49.34</td>\n",
       "      <td>26.24</td>\n",
       "      <td>482</td>\n",
       "      <td>2524</td>\n",
       "      <td>2101</td>\n",
       "      <td>29383</td>\n",
       "      <td>-10336</td>\n",
       "    </tr>\n",
       "    <tr>\n",
       "      <th>552</th>\n",
       "      <td>13393</td>\n",
       "      <td>Archer</td>\n",
       "      <td>False</td>\n",
       "      <td>5</td>\n",
       "      <td>TD</td>\n",
       "      <td>186</td>\n",
       "      <td>50.98</td>\n",
       "      <td>36.02</td>\n",
       "      <td>628</td>\n",
       "      <td>1013</td>\n",
       "      <td>2116</td>\n",
       "      <td>15252</td>\n",
       "      <td>-643</td>\n",
       "    </tr>\n",
       "    <tr>\n",
       "      <th>553</th>\n",
       "      <td>63761</td>\n",
       "      <td>Pz. 58</td>\n",
       "      <td>True</td>\n",
       "      <td>8</td>\n",
       "      <td>MT</td>\n",
       "      <td>148</td>\n",
       "      <td>46.85</td>\n",
       "      <td>25.00</td>\n",
       "      <td>868</td>\n",
       "      <td>2621</td>\n",
       "      <td>6897</td>\n",
       "      <td>25891</td>\n",
       "      <td>25114</td>\n",
       "    </tr>\n",
       "    <tr>\n",
       "      <th>554</th>\n",
       "      <td>52257</td>\n",
       "      <td>M4A2E4</td>\n",
       "      <td>True</td>\n",
       "      <td>5</td>\n",
       "      <td>MT</td>\n",
       "      <td>89</td>\n",
       "      <td>53.07</td>\n",
       "      <td>19.10</td>\n",
       "      <td>488</td>\n",
       "      <td>2208</td>\n",
       "      <td>1591</td>\n",
       "      <td>54534</td>\n",
       "      <td>-12086</td>\n",
       "    </tr>\n",
       "    <tr>\n",
       "      <th>555</th>\n",
       "      <td>51313</td>\n",
       "      <td>Škoda T 45</td>\n",
       "      <td>True</td>\n",
       "      <td>7</td>\n",
       "      <td>HT</td>\n",
       "      <td>67</td>\n",
       "      <td>59.85</td>\n",
       "      <td>29.85</td>\n",
       "      <td>1257</td>\n",
       "      <td>1614</td>\n",
       "      <td>6014</td>\n",
       "      <td>25079</td>\n",
       "      <td>52684</td>\n",
       "    </tr>\n",
       "  </tbody>\n",
       "</table>\n",
       "<p>556 rows × 13 columns</p>\n",
       "</div>"
      ],
      "text/plain": [
       "        Id          Name  isPrem  tier class  battles  winrate  survival  \\\n",
       "0    60225    Bourrasque    True     8    MT   110271    53.36     27.44   \n",
       "1    50193    Skorpion G    True     8    TD    82120    48.96     30.85   \n",
       "2    61505   ELC EVEN 90    True     8    LT    80964    50.58     23.45   \n",
       "3    45057      SU-130PM    True     8    TD    77995    49.72     34.90   \n",
       "4    60481  Char Futur 4    True     9    MT    72969    50.34     28.56   \n",
       "..     ...           ...     ...   ...   ...      ...      ...       ...   \n",
       "551   4417          G1 R   False     5    MT      202    49.34     26.24   \n",
       "552  13393        Archer   False     5    TD      186    50.98     36.02   \n",
       "553  63761        Pz. 58    True     8    MT      148    46.85     25.00   \n",
       "554  52257        M4A2E4    True     5    MT       89    53.07     19.10   \n",
       "555  51313    Škoda T 45    True     7    HT       67    59.85     29.85   \n",
       "\n",
       "     damage  shotCost  repairCost  avg_ammo_cost  avg_profit  \n",
       "0      1391      2966        6483          25621       39962  \n",
       "1      1264      2196        5967          16537       42051  \n",
       "2       593      1875        4725          10728       37193  \n",
       "3      1386      2088        5610          15900       44788  \n",
       "4      1539      1841       15545          16574        7018  \n",
       "..      ...       ...         ...            ...         ...  \n",
       "551     482      2524        2101          29383      -10336  \n",
       "552     628      1013        2116          15252        -643  \n",
       "553     868      2621        6897          25891       25114  \n",
       "554     488      2208        1591          54534      -12086  \n",
       "555    1257      1614        6014          25079       52684  \n",
       "\n",
       "[556 rows x 13 columns]"
      ]
     },
     "execution_count": 81,
     "metadata": {},
     "output_type": "execute_result"
    }
   ],
   "source": [
    "data = pd.DataFrame()\n",
    "generalDf = pd.read_csv('rawDataOutput/generalData.csv', encoding='utf')\n",
    "economicDF = pd.read_csv('rawDataOutput/econData.csv', encoding='utf')\n",
    "\n",
    "combinded = pd.merge(generalDf, economicDF, how='inner', on='tank_id')\n",
    "\n",
    "\n",
    "data['Id'] = combinded['tank_id']\n",
    "data['Name'] = combinded['name_x']\n",
    "data['isPrem'] = combinded['isPrem_x']\n",
    "data['tier'] = combinded['tier_x']\n",
    "data['class'] = combinded['class_x']\n",
    "\n",
    "data['battles'] = combinded['battles_x']\n",
    "data['winrate'] = combinded['winrate']\n",
    "data['survival'] = combinded['survival']\n",
    "data['damage'] = combinded['damage']\n",
    "data['shotCost'] = combinded['cost_per_shot']\n",
    "data['repairCost'] = combinded['avg_repair_cost']\n",
    "data['avg_ammo_cost'] = combinded['avg_ammo_cost']\n",
    "data['avg_profit'] = combinded['avg_profit']\n",
    "\n",
    "data"
   ]
  },
  {
   "attachments": {},
   "cell_type": "markdown",
   "metadata": {},
   "source": [
    "Exploratory data analysis and Hypothesis testing\n",
    "\n"
   ]
  },
  {
   "attachments": {},
   "cell_type": "markdown",
   "metadata": {},
   "source": [
    "Now that data is centralized let's start by observing some simple trends. Two features that are relatively initiative is winrate and profit. Having a higher winrate and gaining more profit in the game is the ultimate goal of each battle. We can observe a clear difference between standard free tanks and premium ones.\n",
    " "
   ]
  },
  {
   "attachments": {},
   "cell_type": "markdown",
   "metadata": {},
   "source": [
    "Let's start with winrate we can divide the data into two groups, premium and non premium dataframes. We can then place both on scatter plots. After that we can apply a line of best fit for both sets using a linear regression model."
   ]
  },
  {
   "attachments": {},
   "cell_type": "markdown",
   "metadata": {},
   "source": [
    "Note:\n",
    "The number of battles a tank plays can skew the result. For example if a tank is only placed once in which it wins it will be listed as having a 100% winrate. Tanks with fewer battles have a greater chance of producing outliers.As such we have limited this plot to tanks with only 1000 battles or more which paints a more accurate picture of performance.\n"
   ]
  },
  {
   "cell_type": "code",
   "execution_count": 82,
   "metadata": {},
   "outputs": [
    {
     "data": {
      "image/png": "[encoded data removed]",
      "text/plain": [
       "<Figure size 640x480 with 1 Axes>"
      ]
     },
     "metadata": {},
     "output_type": "display_data"
    }
   ],
   "source": [
    "premiumGeneral = data[data['isPrem'] == True ]\n",
    "stdGeneral = data[data['isPrem'] == False]\n",
    "\n",
    "\n",
    "premiumGeneral = premiumGeneral[premiumGeneral['battles'] > 1000]\n",
    "stdGeneral = stdGeneral[stdGeneral['battles'] > 1000]\n",
    "\n",
    "reg = linear_model.LinearRegression()\n",
    "\n",
    "x = np.array(premiumGeneral['battles']).reshape(-1,1)\n",
    "y = premiumGeneral['winrate']\n",
    "\n",
    "reg.fit(x,y)\n",
    "\n",
    "predictions = reg.predict(x)\n",
    "plt.scatter(x,y)\n",
    "plt.plot(x, predictions, color='black', label='Premium Regression')\n",
    "\n",
    "x = np.array(stdGeneral['battles']).reshape(-1,1)\n",
    "y = stdGeneral['winrate']\n",
    "\n",
    "reg.fit(x,y)\n",
    "\n",
    "predictions = reg.predict(x)\n",
    "plt.scatter(x,y)\n",
    "plt.plot(x, predictions, color='gray', label='Standard Regression')\n",
    "\n",
    "plt.xlabel('Battles played')\n",
    "plt.ylabel('Average Percent Win Rate')\n",
    "plt.legend()\n",
    "\n",
    "plt.show()"
   ]
  },
  {
   "attachments": {},
   "cell_type": "markdown",
   "metadata": {},
   "source": [
    "The plot certainly seems to suggest a higher winrate for premium tanks compared to standard ones. However correlation is not always causation. Inorder to confidently make this conclusion we can perform hypothesis testing.\n"
   ]
  },
  {
   "attachments": {},
   "cell_type": "markdown",
   "metadata": {},
   "source": [
    "We can define our null and alternative hypothesis\n"
   ]
  },
  {
   "attachments": {},
   "cell_type": "markdown",
   "metadata": {},
   "source": [
    "Null hypothesis: The winrate of premium tanks is the same as the winrate of non-premium tanks.\n"
   ]
  },
  {
   "attachments": {},
   "cell_type": "markdown",
   "metadata": {},
   "source": [
    "Alternative hypothesis: The winrate of premium tanks is higher than the winrate of non-premium tanks.\n"
   ]
  },
  {
   "attachments": {},
   "cell_type": "markdown",
   "metadata": {},
   "source": [
    "We will set our significance level to 0.05 to reject the null hypothesis.\n",
    "We can then use scipy to calculate p value.\n"
   ]
  },
  {
   "cell_type": "code",
   "execution_count": 83,
   "metadata": {},
   "outputs": [
    {
     "name": "stdout",
     "output_type": "stream",
     "text": [
      "t-statistic: 6.357030379930079\n",
      "p-value: 7.149980735576287e-10\n",
      "Reject Null Hypothesis\n"
     ]
    }
   ],
   "source": [
    "gold_winrates = premiumGeneral['winrate']\n",
    "standard_winrates = stdGeneral['winrate']\n",
    "\n",
    "t_stat, p_val = stats.ttest_ind(gold_winrates, standard_winrates, equal_var=False)\n",
    "\n",
    "print(\"t-statistic: \" + str(t_stat))\n",
    "print(\"p-value: \" + str(p_val))\n",
    "\n",
    "if(p_val < 0.05):\n",
    "    print('Reject Null Hypothesis')\n",
    "else:\n",
    "    print('Null Hypotheis remains true')"
   ]
  },
  {
   "attachments": {},
   "cell_type": "markdown",
   "metadata": {},
   "source": [
    "The result p value is significantly smaller than the sigingicants level therefore we can reject the null hypothesis and claim The winrate of premium tanks is higher than the winrate of non-premium tanks.\n"
   ]
  },
  {
   "attachments": {},
   "cell_type": "markdown",
   "metadata": {},
   "source": [
    "We can now apply a similar process to profits. We again split the data into two and plot average profit per battle. We can apply linear regression lines and observe the trend.\n"
   ]
  },
  {
   "cell_type": "code",
   "execution_count": 84,
   "metadata": {},
   "outputs": [
    {
     "data": {
      "image/png": "[encoded data removed]",
      "text/plain": [
       "<Figure size 640x480 with 1 Axes>"
      ]
     },
     "metadata": {},
     "output_type": "display_data"
    }
   ],
   "source": [
    "premiumEcon = data[data['isPrem'] == True]\n",
    "stdEcon = data[data['isPrem'] == False]\n",
    "\n",
    "reg = linear_model.LinearRegression()\n",
    "\n",
    "x = np.array(premiumEcon['battles']).reshape(-1,1)\n",
    "y = premiumEcon['avg_profit']\n",
    "\n",
    "reg.fit(x,y)\n",
    "\n",
    "predictions = reg.predict(x)\n",
    "plt.scatter(x,y,color = 'gold')\n",
    "plt.plot(x, predictions, color='black', label='Gold Regression')\n",
    "\n",
    "x = np.array(stdEcon['battles']).reshape(-1,1)\n",
    "y = stdEcon['avg_profit']\n",
    "\n",
    "reg.fit(x,y)\n",
    "predictions = reg.predict(x)\n",
    "plt.scatter(x,y)\n",
    "plt.plot(x, predictions, color='gray', label='Standard Regression')\n",
    "\n",
    "plt.ylabel('Average Profit')\n",
    "plt.xlabel('Battles Played')\n",
    "plt.title('Average Profits per battle')\n",
    "plt.legend()\n",
    "plt.show()"
   ]
  },
  {
   "attachments": {},
   "cell_type": "markdown",
   "metadata": {},
   "source": [
    "We can clearly see a positive trend for premium tanks and a negative one for standard tanks. This may not be necessary but we can again apply hypothesis testing to confirm a correlation.\n"
   ]
  },
  {
   "attachments": {},
   "cell_type": "markdown",
   "metadata": {},
   "source": [
    "Null Hypothesis: Premium tanks earn an equal amount of credits\n"
   ]
  },
  {
   "attachments": {},
   "cell_type": "markdown",
   "metadata": {},
   "source": [
    "Alternative Hypothesis: Premium tanks earn more than standard ones.\n"
   ]
  },
  {
   "cell_type": "code",
   "execution_count": 85,
   "metadata": {},
   "outputs": [
    {
     "name": "stdout",
     "output_type": "stream",
     "text": [
      "t-statistic: 6.357030379930079\n",
      "p-value: 7.149980735576287e-10\n",
      "Reject Null Hypothesis\n"
     ]
    }
   ],
   "source": [
    "gold_profits = premiumEcon['avg_profit']\n",
    "standard_profit = stdEcon['avg_profit']\n",
    "\n",
    "t_stat, p_val = stats.ttest_ind(gold_winrates, standard_winrates, equal_var=False)\n",
    "\n",
    "print(\"t-statistic: \" + str(t_stat))\n",
    "print(\"p-value: \" + str(p_val))\n",
    "\n",
    "if(p_val < 0.05):\n",
    "    print('Reject Null Hypothesis')\n",
    "else:\n",
    "    print('Null Hypotheis remains true')"
   ]
  },
  {
   "attachments": {},
   "cell_type": "markdown",
   "metadata": {},
   "source": [
    "The p value is smaller than our significance level and therefore we can reject the null hypothesis and claim Premium tanks earn more than standard ones.\n"
   ]
  },
  {
   "attachments": {},
   "cell_type": "markdown",
   "metadata": {},
   "source": [
    "It may seem strange how standard tanks lose money after each game. Especially considering players have to use credits to buy ammo and repair their tanks. As it turns out this data is a bit misleading. Higher tier tanks consume more credits to play than lower tier ones.For example if we look at profits earned from tanks tier 5 and lower we get the following.\n"
   ]
  },
  {
   "cell_type": "code",
   "execution_count": 86,
   "metadata": {},
   "outputs": [
    {
     "data": {
      "image/png": "[encoded data removed]",
      "text/plain": [
       "<Figure size 640x480 with 1 Axes>"
      ]
     },
     "metadata": {},
     "output_type": "display_data"
    }
   ],
   "source": [
    "premiumEcon = economicDF[economicDF['isPrem'] == True]\n",
    "stdEcon = economicDF[economicDF['isPrem'] == False]\n",
    "\n",
    "stdEcon = stdEcon[stdEcon['tier'] < 6]\n",
    "premiumEcon = premiumEcon[premiumEcon['tier'] < 6]\n",
    "\n",
    "reg = linear_model.LinearRegression()\n",
    "\n",
    "x = np.array(premiumEcon['battles']).reshape(-1,1)\n",
    "y = premiumEcon['avg_profit']\n",
    "\n",
    "reg.fit(x,y)\n",
    "\n",
    "predictions = reg.predict(x)\n",
    "plt.scatter(x,y,color = 'gold')\n",
    "plt.plot(x, predictions, color='black', label='Gold Regression')\n",
    "\n",
    "x = np.array(stdEcon['battles']).reshape(-1,1)\n",
    "y = stdEcon['avg_profit']\n",
    "\n",
    "reg.fit(x,y)\n",
    "predictions = reg.predict(x)\n",
    "plt.scatter(x,y)\n",
    "plt.plot(x, predictions, color='gray', label='Standard Regression')\n",
    "\n",
    "plt.ylabel('Average Profit')\n",
    "plt.xlabel('Battles Played')\n",
    "plt.title('Average Profits per battle')\n",
    "plt.legend()\n",
    "plt.show()"
   ]
  },
  {
   "attachments": {},
   "cell_type": "markdown",
   "metadata": {},
   "source": [
    "As we can see lower tier standard tanks are able to make marginal profit. This intentional World of Tanks works to encourage its players to use lower tier vehicles. This design may be benign, perhaps encouraging players to unlock different tank paths. To be more nefarious such as limiting the number of free players in the higher tiers in order to keep them more exclusive to paying customers. The latter reason may be more realistic as premium tanks are not hampered by the same limitation as standard ones. As we saw prior premium tanks always make profit regardless of tier."
   ]
  },
  {
   "attachments": {},
   "cell_type": "markdown",
   "metadata": {},
   "source": [
    "Seeing the large difference in profit between premium and non premiums it may be fair to assume that being premium is the largest factor in a tanks profit. Is this actually the case though? Doing well in a battle may earn you more credits. Surviving the battle without getting destroyed means you don’t have to pay a repair cost. The cost of ammo or the type of vehicle may also play a role. We can determine this using statistical models. \n"
   ]
  },
  {
   "attachments": {},
   "cell_type": "markdown",
   "metadata": {},
   "source": [
    "Looking at our data we can see several columns and work to determine which ones most influence average profit. We can naturally exclude Id and name which have no bearing. We can represent if a tank is a premium with binary 1 and 0. It is possible the type of vehicle also affects profit so we can represent them as integers.\n"
   ]
  },
  {
   "cell_type": "code",
   "execution_count": 87,
   "metadata": {},
   "outputs": [
    {
     "data": {
      "text/html": [
       "<div>\n",
       "<style scoped>\n",
       "    .dataframe tbody tr th:only-of-type {\n",
       "        vertical-align: middle;\n",
       "    }\n",
       "\n",
       "    .dataframe tbody tr th {\n",
       "        vertical-align: top;\n",
       "    }\n",
       "\n",
       "    .dataframe thead th {\n",
       "        text-align: right;\n",
       "    }\n",
       "</style>\n",
       "<table border=\"1\" class=\"dataframe\">\n",
       "  <thead>\n",
       "    <tr style=\"text-align: right;\">\n",
       "      <th></th>\n",
       "      <th>Id</th>\n",
       "      <th>Name</th>\n",
       "      <th>isPrem</th>\n",
       "      <th>tier</th>\n",
       "      <th>class</th>\n",
       "      <th>battles</th>\n",
       "      <th>winrate</th>\n",
       "      <th>survival</th>\n",
       "      <th>damage</th>\n",
       "      <th>shotCost</th>\n",
       "      <th>repairCost</th>\n",
       "      <th>avg_ammo_cost</th>\n",
       "      <th>avg_profit</th>\n",
       "      <th>binaryPrem</th>\n",
       "      <th>numClass</th>\n",
       "    </tr>\n",
       "  </thead>\n",
       "  <tbody>\n",
       "    <tr>\n",
       "      <th>0</th>\n",
       "      <td>60225</td>\n",
       "      <td>Bourrasque</td>\n",
       "      <td>True</td>\n",
       "      <td>8</td>\n",
       "      <td>MT</td>\n",
       "      <td>110271</td>\n",
       "      <td>53.36</td>\n",
       "      <td>27.44</td>\n",
       "      <td>1391</td>\n",
       "      <td>2966</td>\n",
       "      <td>6483</td>\n",
       "      <td>25621</td>\n",
       "      <td>39962</td>\n",
       "      <td>1</td>\n",
       "      <td>2</td>\n",
       "    </tr>\n",
       "    <tr>\n",
       "      <th>1</th>\n",
       "      <td>50193</td>\n",
       "      <td>Skorpion G</td>\n",
       "      <td>True</td>\n",
       "      <td>8</td>\n",
       "      <td>TD</td>\n",
       "      <td>82120</td>\n",
       "      <td>48.96</td>\n",
       "      <td>30.85</td>\n",
       "      <td>1264</td>\n",
       "      <td>2196</td>\n",
       "      <td>5967</td>\n",
       "      <td>16537</td>\n",
       "      <td>42051</td>\n",
       "      <td>1</td>\n",
       "      <td>4</td>\n",
       "    </tr>\n",
       "    <tr>\n",
       "      <th>2</th>\n",
       "      <td>61505</td>\n",
       "      <td>ELC EVEN 90</td>\n",
       "      <td>True</td>\n",
       "      <td>8</td>\n",
       "      <td>LT</td>\n",
       "      <td>80964</td>\n",
       "      <td>50.58</td>\n",
       "      <td>23.45</td>\n",
       "      <td>593</td>\n",
       "      <td>1875</td>\n",
       "      <td>4725</td>\n",
       "      <td>10728</td>\n",
       "      <td>37193</td>\n",
       "      <td>1</td>\n",
       "      <td>1</td>\n",
       "    </tr>\n",
       "    <tr>\n",
       "      <th>3</th>\n",
       "      <td>45057</td>\n",
       "      <td>SU-130PM</td>\n",
       "      <td>True</td>\n",
       "      <td>8</td>\n",
       "      <td>TD</td>\n",
       "      <td>77995</td>\n",
       "      <td>49.72</td>\n",
       "      <td>34.90</td>\n",
       "      <td>1386</td>\n",
       "      <td>2088</td>\n",
       "      <td>5610</td>\n",
       "      <td>15900</td>\n",
       "      <td>44788</td>\n",
       "      <td>1</td>\n",
       "      <td>4</td>\n",
       "    </tr>\n",
       "    <tr>\n",
       "      <th>4</th>\n",
       "      <td>60481</td>\n",
       "      <td>Char Futur 4</td>\n",
       "      <td>True</td>\n",
       "      <td>9</td>\n",
       "      <td>MT</td>\n",
       "      <td>72969</td>\n",
       "      <td>50.34</td>\n",
       "      <td>28.56</td>\n",
       "      <td>1539</td>\n",
       "      <td>1841</td>\n",
       "      <td>15545</td>\n",
       "      <td>16574</td>\n",
       "      <td>7018</td>\n",
       "      <td>1</td>\n",
       "      <td>2</td>\n",
       "    </tr>\n",
       "    <tr>\n",
       "      <th>...</th>\n",
       "      <td>...</td>\n",
       "      <td>...</td>\n",
       "      <td>...</td>\n",
       "      <td>...</td>\n",
       "      <td>...</td>\n",
       "      <td>...</td>\n",
       "      <td>...</td>\n",
       "      <td>...</td>\n",
       "      <td>...</td>\n",
       "      <td>...</td>\n",
       "      <td>...</td>\n",
       "      <td>...</td>\n",
       "      <td>...</td>\n",
       "      <td>...</td>\n",
       "      <td>...</td>\n",
       "    </tr>\n",
       "    <tr>\n",
       "      <th>551</th>\n",
       "      <td>4417</td>\n",
       "      <td>G1 R</td>\n",
       "      <td>False</td>\n",
       "      <td>5</td>\n",
       "      <td>MT</td>\n",
       "      <td>202</td>\n",
       "      <td>49.34</td>\n",
       "      <td>26.24</td>\n",
       "      <td>482</td>\n",
       "      <td>2524</td>\n",
       "      <td>2101</td>\n",
       "      <td>29383</td>\n",
       "      <td>-10336</td>\n",
       "      <td>0</td>\n",
       "      <td>2</td>\n",
       "    </tr>\n",
       "    <tr>\n",
       "      <th>552</th>\n",
       "      <td>13393</td>\n",
       "      <td>Archer</td>\n",
       "      <td>False</td>\n",
       "      <td>5</td>\n",
       "      <td>TD</td>\n",
       "      <td>186</td>\n",
       "      <td>50.98</td>\n",
       "      <td>36.02</td>\n",
       "      <td>628</td>\n",
       "      <td>1013</td>\n",
       "      <td>2116</td>\n",
       "      <td>15252</td>\n",
       "      <td>-643</td>\n",
       "      <td>0</td>\n",
       "      <td>4</td>\n",
       "    </tr>\n",
       "    <tr>\n",
       "      <th>553</th>\n",
       "      <td>63761</td>\n",
       "      <td>Pz. 58</td>\n",
       "      <td>True</td>\n",
       "      <td>8</td>\n",
       "      <td>MT</td>\n",
       "      <td>148</td>\n",
       "      <td>46.85</td>\n",
       "      <td>25.00</td>\n",
       "      <td>868</td>\n",
       "      <td>2621</td>\n",
       "      <td>6897</td>\n",
       "      <td>25891</td>\n",
       "      <td>25114</td>\n",
       "      <td>1</td>\n",
       "      <td>2</td>\n",
       "    </tr>\n",
       "    <tr>\n",
       "      <th>554</th>\n",
       "      <td>52257</td>\n",
       "      <td>M4A2E4</td>\n",
       "      <td>True</td>\n",
       "      <td>5</td>\n",
       "      <td>MT</td>\n",
       "      <td>89</td>\n",
       "      <td>53.07</td>\n",
       "      <td>19.10</td>\n",
       "      <td>488</td>\n",
       "      <td>2208</td>\n",
       "      <td>1591</td>\n",
       "      <td>54534</td>\n",
       "      <td>-12086</td>\n",
       "      <td>1</td>\n",
       "      <td>2</td>\n",
       "    </tr>\n",
       "    <tr>\n",
       "      <th>555</th>\n",
       "      <td>51313</td>\n",
       "      <td>Škoda T 45</td>\n",
       "      <td>True</td>\n",
       "      <td>7</td>\n",
       "      <td>HT</td>\n",
       "      <td>67</td>\n",
       "      <td>59.85</td>\n",
       "      <td>29.85</td>\n",
       "      <td>1257</td>\n",
       "      <td>1614</td>\n",
       "      <td>6014</td>\n",
       "      <td>25079</td>\n",
       "      <td>52684</td>\n",
       "      <td>1</td>\n",
       "      <td>3</td>\n",
       "    </tr>\n",
       "  </tbody>\n",
       "</table>\n",
       "<p>556 rows × 15 columns</p>\n",
       "</div>"
      ],
      "text/plain": [
       "        Id          Name  isPrem  tier class  battles  winrate  survival  \\\n",
       "0    60225    Bourrasque    True     8    MT   110271    53.36     27.44   \n",
       "1    50193    Skorpion G    True     8    TD    82120    48.96     30.85   \n",
       "2    61505   ELC EVEN 90    True     8    LT    80964    50.58     23.45   \n",
       "3    45057      SU-130PM    True     8    TD    77995    49.72     34.90   \n",
       "4    60481  Char Futur 4    True     9    MT    72969    50.34     28.56   \n",
       "..     ...           ...     ...   ...   ...      ...      ...       ...   \n",
       "551   4417          G1 R   False     5    MT      202    49.34     26.24   \n",
       "552  13393        Archer   False     5    TD      186    50.98     36.02   \n",
       "553  63761        Pz. 58    True     8    MT      148    46.85     25.00   \n",
       "554  52257        M4A2E4    True     5    MT       89    53.07     19.10   \n",
       "555  51313    Škoda T 45    True     7    HT       67    59.85     29.85   \n",
       "\n",
       "     damage  shotCost  repairCost  avg_ammo_cost  avg_profit  binaryPrem  \\\n",
       "0      1391      2966        6483          25621       39962           1   \n",
       "1      1264      2196        5967          16537       42051           1   \n",
       "2       593      1875        4725          10728       37193           1   \n",
       "3      1386      2088        5610          15900       44788           1   \n",
       "4      1539      1841       15545          16574        7018           1   \n",
       "..      ...       ...         ...            ...         ...         ...   \n",
       "551     482      2524        2101          29383      -10336           0   \n",
       "552     628      1013        2116          15252        -643           0   \n",
       "553     868      2621        6897          25891       25114           1   \n",
       "554     488      2208        1591          54534      -12086           1   \n",
       "555    1257      1614        6014          25079       52684           1   \n",
       "\n",
       "     numClass  \n",
       "0           2  \n",
       "1           4  \n",
       "2           1  \n",
       "3           4  \n",
       "4           2  \n",
       "..        ...  \n",
       "551         2  \n",
       "552         4  \n",
       "553         2  \n",
       "554         2  \n",
       "555         3  \n",
       "\n",
       "[556 rows x 15 columns]"
      ]
     },
     "execution_count": 87,
     "metadata": {},
     "output_type": "execute_result"
    }
   ],
   "source": [
    "data['binaryPrem'] = data['isPrem'].apply(lambda x : 1 if x else 0)\n",
    "types = {'SPG' : 0, 'LT' : 1, 'MT' : 2, 'HT' : 3, 'TD' : 4}\n",
    "data['numClass'] = data['class'].apply(lambda x : types[x])\n",
    "data"
   ]
  },
  {
   "attachments": {},
   "cell_type": "markdown",
   "metadata": {},
   "source": [
    "Using our data we can sit revenant columns into a data stat learning model. From there we can determine p values from each respective attribute. Using the same significant value from before we can single out which attributes are likely to contribute to average profits.\n"
   ]
  },
  {
   "cell_type": "code",
   "execution_count": 88,
   "metadata": {},
   "outputs": [
    {
     "data": {
      "text/plain": [
       "binaryPrem       9.662444e-54\n",
       "tier             4.002829e-24\n",
       "survival         3.062961e-05\n",
       "damage           2.382668e-06\n",
       "repairCost       4.065880e-53\n",
       "avg_ammo_cost    9.998197e-15\n",
       "dtype: float64"
      ]
     },
     "execution_count": 88,
     "metadata": {},
     "output_type": "execute_result"
    }
   ],
   "source": [
    "X = data[['binaryPrem', 'tier', 'numClass', 'winrate', 'survival', 'damage', 'shotCost', 'repairCost', 'avg_ammo_cost']]\n",
    "y = data['avg_profit']\n",
    "\n",
    "X = sm.add_constant(X)\n",
    "model = sm.OLS(y, X).fit()\n",
    "\n",
    "pVals = model.pvalues\n",
    "\n",
    "pVals.sort_values(ascending=False)\n",
    "pVals = pVals[pVals < 0.05]\n",
    "pVals"
   ]
  },
  {
   "attachments": {},
   "cell_type": "markdown",
   "metadata": {},
   "source": [
    "Machine learning\n"
   ]
  },
  {
   "attachments": {},
   "cell_type": "markdown",
   "metadata": {},
   "source": [
    "Knowing what factors affect profit one might ask is it possible to predict profits given relevant information. This is indeed possible that we can construct a machine learning function that predicts profit.\n"
   ]
  },
  {
   "attachments": {},
   "cell_type": "markdown",
   "metadata": {},
   "source": [
    "We can start by constructing a database we can use to train our algoritum "
   ]
  },
  {
   "cell_type": "code",
   "execution_count": 89,
   "metadata": {},
   "outputs": [
    {
     "data": {
      "text/html": [
       "<div>\n",
       "<style scoped>\n",
       "    .dataframe tbody tr th:only-of-type {\n",
       "        vertical-align: middle;\n",
       "    }\n",
       "\n",
       "    .dataframe tbody tr th {\n",
       "        vertical-align: top;\n",
       "    }\n",
       "\n",
       "    .dataframe thead th {\n",
       "        text-align: right;\n",
       "    }\n",
       "</style>\n",
       "<table border=\"1\" class=\"dataframe\">\n",
       "  <thead>\n",
       "    <tr style=\"text-align: right;\">\n",
       "      <th></th>\n",
       "      <th>binaryPrem</th>\n",
       "      <th>tier</th>\n",
       "      <th>survival</th>\n",
       "      <th>damage</th>\n",
       "      <th>repairCost</th>\n",
       "      <th>avg_ammo_cost</th>\n",
       "      <th>avg_profit</th>\n",
       "    </tr>\n",
       "  </thead>\n",
       "  <tbody>\n",
       "    <tr>\n",
       "      <th>0</th>\n",
       "      <td>1</td>\n",
       "      <td>8</td>\n",
       "      <td>27.44</td>\n",
       "      <td>1391</td>\n",
       "      <td>6483</td>\n",
       "      <td>25621</td>\n",
       "      <td>39962</td>\n",
       "    </tr>\n",
       "    <tr>\n",
       "      <th>1</th>\n",
       "      <td>1</td>\n",
       "      <td>8</td>\n",
       "      <td>30.85</td>\n",
       "      <td>1264</td>\n",
       "      <td>5967</td>\n",
       "      <td>16537</td>\n",
       "      <td>42051</td>\n",
       "    </tr>\n",
       "    <tr>\n",
       "      <th>2</th>\n",
       "      <td>1</td>\n",
       "      <td>8</td>\n",
       "      <td>23.45</td>\n",
       "      <td>593</td>\n",
       "      <td>4725</td>\n",
       "      <td>10728</td>\n",
       "      <td>37193</td>\n",
       "    </tr>\n",
       "    <tr>\n",
       "      <th>3</th>\n",
       "      <td>1</td>\n",
       "      <td>8</td>\n",
       "      <td>34.90</td>\n",
       "      <td>1386</td>\n",
       "      <td>5610</td>\n",
       "      <td>15900</td>\n",
       "      <td>44788</td>\n",
       "    </tr>\n",
       "    <tr>\n",
       "      <th>4</th>\n",
       "      <td>1</td>\n",
       "      <td>9</td>\n",
       "      <td>28.56</td>\n",
       "      <td>1539</td>\n",
       "      <td>15545</td>\n",
       "      <td>16574</td>\n",
       "      <td>7018</td>\n",
       "    </tr>\n",
       "    <tr>\n",
       "      <th>...</th>\n",
       "      <td>...</td>\n",
       "      <td>...</td>\n",
       "      <td>...</td>\n",
       "      <td>...</td>\n",
       "      <td>...</td>\n",
       "      <td>...</td>\n",
       "      <td>...</td>\n",
       "    </tr>\n",
       "    <tr>\n",
       "      <th>551</th>\n",
       "      <td>0</td>\n",
       "      <td>5</td>\n",
       "      <td>26.24</td>\n",
       "      <td>482</td>\n",
       "      <td>2101</td>\n",
       "      <td>29383</td>\n",
       "      <td>-10336</td>\n",
       "    </tr>\n",
       "    <tr>\n",
       "      <th>552</th>\n",
       "      <td>0</td>\n",
       "      <td>5</td>\n",
       "      <td>36.02</td>\n",
       "      <td>628</td>\n",
       "      <td>2116</td>\n",
       "      <td>15252</td>\n",
       "      <td>-643</td>\n",
       "    </tr>\n",
       "    <tr>\n",
       "      <th>553</th>\n",
       "      <td>1</td>\n",
       "      <td>8</td>\n",
       "      <td>25.00</td>\n",
       "      <td>868</td>\n",
       "      <td>6897</td>\n",
       "      <td>25891</td>\n",
       "      <td>25114</td>\n",
       "    </tr>\n",
       "    <tr>\n",
       "      <th>554</th>\n",
       "      <td>1</td>\n",
       "      <td>5</td>\n",
       "      <td>19.10</td>\n",
       "      <td>488</td>\n",
       "      <td>1591</td>\n",
       "      <td>54534</td>\n",
       "      <td>-12086</td>\n",
       "    </tr>\n",
       "    <tr>\n",
       "      <th>555</th>\n",
       "      <td>1</td>\n",
       "      <td>7</td>\n",
       "      <td>29.85</td>\n",
       "      <td>1257</td>\n",
       "      <td>6014</td>\n",
       "      <td>25079</td>\n",
       "      <td>52684</td>\n",
       "    </tr>\n",
       "  </tbody>\n",
       "</table>\n",
       "<p>556 rows × 7 columns</p>\n",
       "</div>"
      ],
      "text/plain": [
       "     binaryPrem  tier  survival  damage  repairCost  avg_ammo_cost  avg_profit\n",
       "0             1     8     27.44    1391        6483          25621       39962\n",
       "1             1     8     30.85    1264        5967          16537       42051\n",
       "2             1     8     23.45     593        4725          10728       37193\n",
       "3             1     8     34.90    1386        5610          15900       44788\n",
       "4             1     9     28.56    1539       15545          16574        7018\n",
       "..          ...   ...       ...     ...         ...            ...         ...\n",
       "551           0     5     26.24     482        2101          29383      -10336\n",
       "552           0     5     36.02     628        2116          15252        -643\n",
       "553           1     8     25.00     868        6897          25891       25114\n",
       "554           1     5     19.10     488        1591          54534      -12086\n",
       "555           1     7     29.85    1257        6014          25079       52684\n",
       "\n",
       "[556 rows x 7 columns]"
      ]
     },
     "execution_count": 89,
     "metadata": {},
     "output_type": "execute_result"
    }
   ],
   "source": [
    "trainingData = pd.DataFrame()\n",
    "\n",
    "trainingData['binaryPrem'] = data['binaryPrem']\n",
    "trainingData['tier'] = data['tier']\n",
    "trainingData['survival'] = data['survival']\n",
    "trainingData['damage'] = data['damage']\n",
    "trainingData['repairCost'] = data['repairCost']\n",
    "trainingData['avg_ammo_cost'] = data['avg_ammo_cost']\n",
    "trainingData['avg_profit'] = data['avg_profit']\n",
    "trainingData\n",
    "\n"
   ]
  },
  {
   "attachments": {},
   "cell_type": "markdown",
   "metadata": {},
   "source": [
    "We define a machine learning function using gradient descent. We will iterate T number of times each time we will keep track of the steepest ascent at f and step down a gradient.\n",
    "After we finish we will return our optimal theta values as well as the loss over the iterations."
   ]
  },
  {
   "cell_type": "code",
   "execution_count": 99,
   "metadata": {},
   "outputs": [],
   "source": [
    "def grad_descent(X, y, T, alpha):\n",
    "    m, n = X.shape \n",
    "    theta = np.zeros(n)\n",
    "    f = np.zeros(T) \n",
    "    for i in range(T):\n",
    "\n",
    "        f[i] = 0.5*np.linalg.norm(X.dot(theta) - y)**2\n",
    "\n",
    "        g = np.transpose(X).dot(X.dot(theta) - y)\n",
    "\n",
    "        theta = theta - alpha*g\n",
    "    return theta, f"
   ]
  },
  {
   "attachments": {},
   "cell_type": "markdown",
   "metadata": {},
   "source": [
    "We will start by obtaining the revelcant X and y data. We will standardize the X values and add a constant coefficient. \n"
   ]
  },
  {
   "cell_type": "code",
   "execution_count": 91,
   "metadata": {},
   "outputs": [],
   "source": [
    "X = trainingData.drop(\"avg_profit\", axis=1).values\n",
    "y = trainingData['avg_profit'].values\n"
   ]
  },
  {
   "cell_type": "code",
   "execution_count": 92,
   "metadata": {},
   "outputs": [],
   "source": [
    "X_mean = np.mean(X, axis=0)\n",
    "X_std = np.std(X, axis=0)\n",
    "X = (X - X_mean) / X_std\n",
    "X = np.hstack((np.ones((X.shape[0], 1)), X))\n"
   ]
  },
  {
   "attachments": {},
   "cell_type": "markdown",
   "metadata": {},
   "source": [
    "We can then call our function by playing around with the alpha and T values to get the fit.\n"
   ]
  },
  {
   "cell_type": "code",
   "execution_count": 116,
   "metadata": {},
   "outputs": [
    {
     "name": "stdout",
     "output_type": "stream",
     "text": [
      "[  8468.31834532   8374.44159171  11492.51730421  -2144.38930847\n",
      "   6634.61653471 -20665.12756909  -6483.80719232]\n"
     ]
    }
   ],
   "source": [
    "\n",
    "T=1000\n",
    "alpha=0.001\n",
    "\n",
    "theta, f = grad_descent(X, y, T, alpha)\n",
    "print(theta)\n",
    "\n"
   ]
  },
  {
   "attachments": {},
   "cell_type": "markdown",
   "metadata": {},
   "source": [
    "We can plot our loss over each iteration. As we can see we are decreasing over time until minimal.\n"
   ]
  },
  {
   "cell_type": "code",
   "execution_count": 117,
   "metadata": {},
   "outputs": [
    {
     "data": {
      "text/plain": [
       "Text(0, 0.5, 'Loss')"
      ]
     },
     "execution_count": 117,
     "metadata": {},
     "output_type": "execute_result"
    },
    {
     "data": {
      "image/png": "[encoded data removed]",
      "text/plain": [
       "<Figure size 640x480 with 1 Axes>"
      ]
     },
     "metadata": {},
     "output_type": "display_data"
    }
   ],
   "source": [
    "plt.scatter(range(T), f)\n",
    "plt.title('Plotting Loss Over Time')\n",
    "plt.xlabel('Iterations')\n",
    "plt.ylabel('Loss')"
   ]
  },
  {
   "attachments": {},
   "cell_type": "markdown",
   "metadata": {},
   "source": [
    "Using our theta we can construct a function that predicts the profit of a tank based on information provided.\n"
   ]
  },
  {
   "cell_type": "code",
   "execution_count": 122,
   "metadata": {},
   "outputs": [],
   "source": [
    "def predictProfit(isPrem, tier, survival, damage, repairCost, ammoCost, theta):\n",
    "    profit = 0\n",
    "    \n",
    "    premNorm = (isPrem - np.mean(trainingData[\"binaryPrem\"])) / np.std(trainingData[\"binaryPrem\"])\n",
    "    tierNorm = (tier - np.mean(trainingData[\"tier\"])) / np.std(trainingData[\"tier\"])\n",
    "    survivalNorm = (survival - np.mean(trainingData['survival'])) / np.std(trainingData['survival'])\n",
    "    damageNorm = (damage - np.mean(trainingData['damage'])) / np.std(trainingData['damage'])\n",
    "    repairNorm = (repairCost - np.mean(trainingData['repairCost'])) / np.std(trainingData['repairCost'])\n",
    "    ammoNorm = (ammoCost - np.mean(trainingData['avg_ammo_cost'])) / np.std(trainingData['avg_ammo_cost'])\n",
    "\n",
    "    features = np.array([1, premNorm, tierNorm, survivalNorm, damageNorm, repairNorm, ammoNorm])\n",
    "    profit = np.dot(features, theta)\n",
    "    \n",
    "    return profit\n",
    "    "
   ]
  },
  {
   "attachments": {},
   "cell_type": "markdown",
   "metadata": {},
   "source": [
    "Here is an example of calling it, As we can see the prediction seems to give us a reasonable prediction.\n"
   ]
  },
  {
   "cell_type": "code",
   "execution_count": 121,
   "metadata": {},
   "outputs": [
    {
     "name": "stdout",
     "output_type": "stream",
     "text": [
      "Predicted profit: -2492.2700701221147\n"
     ]
    }
   ],
   "source": [
    "prem = {True : 1, False : 0}\n",
    "\n",
    "prem = prem[False]\n",
    "tier = 7\n",
    "survival = 25.86\n",
    "damage = 894\n",
    "repairCost = 8700\n",
    "ammoCost = 20000\n",
    "\n",
    "profit = predictProfit(prem,tier,survival,damage,repairCost,ammoCost,theta)\n",
    "print(\"Predicted profit:\", profit)\n"
   ]
  },
  {
   "attachments": {},
   "cell_type": "markdown",
   "metadata": {},
   "source": [
    "Our predictions are obviously not going to be perfect so should we expect them to be. \n",
    "We can iterate through our data and calculate the absolute mean error.\n"
   ]
  },
  {
   "cell_type": "code",
   "execution_count": 123,
   "metadata": {},
   "outputs": [
    {
     "name": "stdout",
     "output_type": "stream",
     "text": [
      "Mean Absolute error: 6799.676382474544\n"
     ]
    }
   ],
   "source": [
    "predictions = trainingData.apply(\n",
    "    lambda row: \n",
    "        predictProfit(row['binaryPrem'], row['tier'], row['survival'], row['damage'], row['repairCost'], row['avg_ammo_cost'], theta), axis=1)\n",
    "\n",
    "errors = np.abs(predictions - trainingData['avg_profit'])\n",
    "\n",
    "avg_error = np.mean(errors)\n",
    "print(\"Mean Absolute error:\", avg_error)"
   ]
  },
  {
   "attachments": {},
   "cell_type": "markdown",
   "metadata": {},
   "source": [
    "\n",
    "We can streamline this process even more. Simply provide the name of a tank to test it yourself.\n",
    "A link is provided that you can use to compare different tanks economies. The average profit column is highlighted. Browse the list and try entering a couple tank names.\n",
    "Bear in mine some tanks may not be available as the website is constantly being updated. In addition, the highest and lowest profit tanks will probably yield a larger error.\n"
   ]
  },
  {
   "attachments": {},
   "cell_type": "markdown",
   "metadata": {},
   "source": [
    "https://www.tomato.gg/economics/all\n"
   ]
  },
  {
   "cell_type": "code",
   "execution_count": 128,
   "metadata": {},
   "outputs": [
    {
     "name": "stdout",
     "output_type": "stream",
     "text": [
      "Estimated Profit: 6958.930690936433\n",
      "Off by: 83.93069093643317\n"
     ]
    }
   ],
   "source": [
    "def estimateTankProfit(name):\n",
    "    tank = data[data['Name'] == name]\n",
    "    \n",
    "    if not tank.empty:\n",
    "        isPrem = tank['isPrem'].values[0]\n",
    "        tier = tank['tier'].values[0]\n",
    "        survival = tank['survival'].values[0]\n",
    "        damage = tank['damage'].values[0]\n",
    "        repair = tank['repairCost'].values[0]\n",
    "        avg_ammo_cost = tank['avg_ammo_cost'].values[0]\n",
    "\n",
    "        profit = predictProfit(isPrem, tier, survival, damage, repair, avg_ammo_cost,theta)\n",
    "        error = abs(profit - tank['avg_profit']).values[0]\n",
    "        print(\"Estimated Profit: \" + str(profit))\n",
    "        print(\"Off by: \" + str(error))\n",
    "\n",
    "    else:\n",
    "        print('Tank not Found')\n",
    "\n",
    "\n",
    "\n",
    "estimateTankProfit('40TP')"
   ]
  }
 ],
 "metadata": {
  "kernelspec": {
   "display_name": "Python 3",
   "language": "python",
   "name": "python3"
  },
  "language_info": {
   "codemirror_mode": {
    "name": "ipython",
    "version": 3
   },
   "file_extension": ".py",
   "mimetype": "text/x-python",
   "name": "python",
   "nbconvert_exporter": "python",
   "pygments_lexer": "ipython3",
   "version": "3.11.3"
  },
  "orig_nbformat": 4
 },
 "nbformat": 4,
 "nbformat_minor": 2
}
