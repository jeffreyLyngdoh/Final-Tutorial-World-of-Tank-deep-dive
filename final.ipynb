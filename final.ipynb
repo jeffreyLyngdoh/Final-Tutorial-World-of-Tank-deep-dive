{
 "cells": [
  {
   "cell_type": "code",
   "execution_count": 22,
   "metadata": {},
   "outputs": [],
   "source": [
    "import requests\n",
    "import json\n",
    "from bs4 import BeautifulSoup\n",
    "import pandas as pd"
   ]
  },
  {
   "cell_type": "code",
   "execution_count": 23,
   "metadata": {},
   "outputs": [
    {
     "name": "stdout",
     "output_type": "stream",
     "text": [
      "     tank_id         name   nation  tier class   \n",
      "0      51361  Progetto 46    Italy     8    MT  \\\n",
      "1      50193   Skorpion G  Germany     8    TD   \n",
      "2      60225   Bourrasque   France     8    MT   \n",
      "3       5505   UDES 15/16   Sweden    10    MT   \n",
      "4      45057     SU-130PM     USSR     8    TD   \n",
      "..       ...          ...      ...   ...   ...   \n",
      "555    63761       Pz. 58  Germany     8    MT   \n",
      "556    53793        T95E2      USA     8    MT   \n",
      "557    13393       Archer       UK     5    TD   \n",
      "558    52257       M4A2E4      USA     5    MT   \n",
      "559    54033   Pz. V/IV A  Germany     5    MT   \n",
      "\n",
      "                                                 image  battles  winrate   \n",
      "0    https://api.worldoftanks.com/static/2.66.0/wot...    52480    51.00  \\\n",
      "1    https://api.worldoftanks.com/static/2.66.0/wot...    51868    49.11   \n",
      "2    https://api.worldoftanks.com/static/2.66.0/wot...    51499    53.30   \n",
      "3    https://api.worldoftanks.com/static/2.66.0/wot...    51164    49.73   \n",
      "4    https://api.worldoftanks.com/static/2.66.0/wot...    50625    49.64   \n",
      "..                                                 ...      ...      ...   \n",
      "555  https://api.worldoftanks.com/static/2.66.0/wot...       92    44.47   \n",
      "556  https://api.worldoftanks.com/static/2.66.0/wot...       74    48.73   \n",
      "557  https://api.worldoftanks.com/static/2.66.0/wot...       69    52.61   \n",
      "558  https://api.worldoftanks.com/static/2.66.0/wot...       48    51.15   \n",
      "559  https://api.worldoftanks.com/static/2.66.0/wot...        2    63.64   \n",
      "\n",
      "     damage  sniper_damage  ...  potential_damage_received   \n",
      "0      1339            427  ...                       1307  \\\n",
      "1      1261            716  ...                        880   \n",
      "2      1429            388  ...                       1042   \n",
      "3      1880            476  ...                       2131   \n",
      "4      1386            753  ...                        777   \n",
      "..      ...            ...  ...                        ...   \n",
      "555     943            261  ...                       1232   \n",
      "556     969            316  ...                       1659   \n",
      "557     467            267  ...                        310   \n",
      "558     394             88  ...                        816   \n",
      "559    1167            273  ...                        832   \n",
      "\n",
      "     base_capture_points  base_defense_points  life_time  survival   \n",
      "0                   0.51                 0.45        300     26.01  \\\n",
      "1                   0.71                 0.36        340     30.88   \n",
      "2                   0.51                 0.54        303     28.49   \n",
      "3                   0.61                 0.36        323     29.53   \n",
      "4                   0.75                 0.41        359     34.78   \n",
      "..                   ...                  ...        ...       ...   \n",
      "555                 0.46                 0.82        289     23.91   \n",
      "556                 1.93                 0.31        329     31.08   \n",
      "557                 0.74                 0.99        341     39.13   \n",
      "558                 0.50                 0.00        253     18.75   \n",
      "559                 0.00                 0.00        335    100.00   \n",
      "\n",
      "     distance_traveled   wn8  difference  player_winrate  isPrem  \n",
      "0                 1605  1540        0.45           50.55    True  \n",
      "1                 1253  1254       -0.07           49.18    True  \n",
      "2                 1840  1739        1.91           51.39    True  \n",
      "3                 1627  1485       -0.15           49.88   False  \n",
      "4                 1204  1352       -0.17           49.81    True  \n",
      "..                 ...   ...         ...             ...     ...  \n",
      "555               1331  1197       -4.89           49.36    True  \n",
      "556               1530  1103       -0.74           49.47    True  \n",
      "557               1009   934        0.14           52.47   False  \n",
      "558               1056   893        0.96           50.19    True  \n",
      "559               2680  2890        0.00           63.64    True  \n",
      "\n",
      "[560 rows x 32 columns]\n"
     ]
    }
   ],
   "source": [
    "url = \"https://www.tomato.gg/tank-stats/NA\"\n",
    "\n",
    "response = requests.get(url)\n",
    "soup = BeautifulSoup(response.content, \"html.parser\")\n",
    "\n",
    "script = soup.find(\"script\", {\"id\": \"__NEXT_DATA__\"})\n",
    "if script:\n",
    "    # extract the contents of the script tag\n",
    "    contents = script.contents[0]\n",
    "    # parse the JSON data\n",
    "    data = json.loads(contents)\n",
    "    # access the array in the initialData property\n",
    "    initial_data = data[\"props\"][\"pageProps\"][\"data\"]\n",
    "    # print the array\n",
    "    df = pd.DataFrame(initial_data)\n",
    "    \n",
    "else:\n",
    "    with open('backup.txt', 'r') as f:\n",
    "        text = f.readlines()\n",
    "\n",
    "        data = []\n",
    "        for line in text:\n",
    "            data.append(eval(line))\n",
    "\n",
    "        df = pd.DataFrame(data)\n",
    "\n",
    "print(df)"
   ]
  },
  {
   "cell_type": "code",
   "execution_count": null,
   "metadata": {},
   "outputs": [],
   "source": [
    "\n",
    "\n"
   ]
  }
 ],
 "metadata": {
  "kernelspec": {
   "display_name": "Python 3",
   "language": "python",
   "name": "python3"
  },
  "language_info": {
   "codemirror_mode": {
    "name": "ipython",
    "version": 3
   },
   "file_extension": ".py",
   "mimetype": "text/x-python",
   "name": "python",
   "nbconvert_exporter": "python",
   "pygments_lexer": "ipython3",
   "version": "3.11.2"
  },
  "orig_nbformat": 4
 },
 "nbformat": 4,
 "nbformat_minor": 2
}
